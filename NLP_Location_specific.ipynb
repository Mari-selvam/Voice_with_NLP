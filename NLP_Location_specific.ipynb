{
  "nbformat": 4,
  "nbformat_minor": 0,
  "metadata": {
    "colab": {
      "private_outputs": true,
      "provenance": [],
      "include_colab_link": true
    },
    "kernelspec": {
      "name": "python3",
      "display_name": "Python 3"
    },
    "language_info": {
      "name": "python"
    }
  },
  "cells": [
    {
      "cell_type": "markdown",
      "metadata": {
        "id": "view-in-github",
        "colab_type": "text"
      },
      "source": [
        "<a href=\"https://colab.research.google.com/github/Mari-selvam/Voice_with_NLP/blob/main/NLP_Location_specific.ipynb\" target=\"_parent\"><img src=\"https://colab.research.google.com/assets/colab-badge.svg\" alt=\"Open In Colab\"/></a>"
      ]
    },
    {
      "cell_type": "code",
      "execution_count": null,
      "metadata": {
        "id": "JyClehkaCEqz"
      },
      "outputs": [],
      "source": [
        "import pandas as pd\n",
        "\n",
        "data = pd.read_csv(\"/content/NLP_Sub_Location_Data - Sheet1 (1) (1).csv\")\n",
        "data.head()"
      ]
    },
    {
      "cell_type": "code",
      "source": [
        "len(data)"
      ],
      "metadata": {
        "id": "Cg1Cbdv_H2J1"
      },
      "execution_count": null,
      "outputs": []
    },
    {
      "cell_type": "code",
      "source": [
        "for i,j in enumerate(data['Location']):\n",
        "  data.loc[i,'Location'] = str('<s>'+j+'</s>')\n",
        "  # data['Location'][i] = str(j)"
      ],
      "metadata": {
        "id": "mP95xAkTAIWr"
      },
      "execution_count": null,
      "outputs": []
    },
    {
      "cell_type": "code",
      "source": [
        "data.head()"
      ],
      "metadata": {
        "id": "WCTevPv9BhP9"
      },
      "execution_count": null,
      "outputs": []
    },
    {
      "cell_type": "code",
      "source": [
        "import tensorflow as tf\n",
        "from  tensorflow.keras.preprocessing.text import Tokenizer\n",
        "from tensorflow.keras.preprocessing.sequence import pad_sequences"
      ],
      "metadata": {
        "id": "PX0QE4fUc86q"
      },
      "execution_count": null,
      "outputs": []
    },
    {
      "cell_type": "code",
      "source": [
        "token = Tokenizer()\n",
        "token.fit_on_texts(data['Location'])"
      ],
      "metadata": {
        "id": "Q5zD_0UndFI7"
      },
      "execution_count": null,
      "outputs": []
    },
    {
      "cell_type": "code",
      "source": [
        "# token.word_index"
      ],
      "metadata": {
        "id": "qOJt45JSdfQq"
      },
      "execution_count": null,
      "outputs": []
    },
    {
      "cell_type": "code",
      "source": [
        "sequence = token.texts_to_sequences(data['Location'])\n",
        "\n",
        "sequence[:10]"
      ],
      "metadata": {
        "id": "SH5PA02rdhTZ"
      },
      "execution_count": null,
      "outputs": []
    },
    {
      "cell_type": "code",
      "source": [
        "text = pad_sequences(sequence)\n",
        "text.shape"
      ],
      "metadata": {
        "id": "EolqbAuHdrtw"
      },
      "execution_count": null,
      "outputs": []
    },
    {
      "cell_type": "code",
      "source": [
        "len(text[0])"
      ],
      "metadata": {
        "id": "Thl6JCYkeKmy"
      },
      "execution_count": null,
      "outputs": []
    },
    {
      "cell_type": "code",
      "source": [
        "from tensorflow.keras.utils import to_categorical"
      ],
      "metadata": {
        "id": "qI9EVRbWf-G5"
      },
      "execution_count": null,
      "outputs": []
    },
    {
      "cell_type": "code",
      "source": [
        "y = to_categorical(data['Class'])\n",
        "y"
      ],
      "metadata": {
        "id": "YkK91OeNf9Lg"
      },
      "execution_count": null,
      "outputs": []
    },
    {
      "cell_type": "code",
      "source": [
        "locations_dict = {\n",
        "    0: \"APJ Block\",\n",
        "    1: \"Main Block\",\n",
        "    1: \"FX Block\",\n",
        "    2: \"MBA Block\",\n",
        "    2: \"MBA Seminar Hall\",\n",
        "    3: \"Xerox Shop\",\n",
        "    4: \"Exam Cell\",\n",
        "    4: \"Controller of Examinations\",\n",
        "    4: \"COE Block\",\n",
        "    5: \"Basketball Ground\",\n",
        "    5: \"Basketball Court\",\n",
        "    6: \"Canteen\",\n",
        "    6: \"Cafeteria\",\n",
        "    7: \"Main Auditorium\",\n",
        "    8: \"Mechanical Block\",\n",
        "    8: \"Mech Block\",\n",
        "    9: \"Library\",\n",
        "    10: \"Playground\",\n",
        "\n",
        "}\n",
        "\n",
        "\n",
        "locations_dict = {\n",
        "    0: \"APJ Block\",\n",
        "    1: \"Main Block\",\n",
        "    2: \"MBA Block\",\n",
        "    3: \"Xerox Shop\",\n",
        "    4: \"COE Block\",\n",
        "    5: \"Basketball Court\",\n",
        "    6: \"Canteen\",\n",
        "    7: \"Main Auditorium\",\n",
        "    8: \"Mechanical Block\",\n",
        "    9: \"Library\",\n",
        "    10: \"Playground\",\n",
        "\n",
        "}"
      ],
      "metadata": {
        "id": "M8KKYdVYfdj8"
      },
      "execution_count": null,
      "outputs": []
    },
    {
      "cell_type": "code",
      "source": [
        "vocab_size = len(token.word_index) + 1\n",
        "vocab_size"
      ],
      "metadata": {
        "id": "q_aQy1iKjtNi"
      },
      "execution_count": null,
      "outputs": []
    },
    {
      "cell_type": "code",
      "source": [
        "from tensorflow.keras.models import Sequential\n",
        "from tensorflow.keras.layers import Embedding,LSTM,Dense"
      ],
      "metadata": {
        "id": "Ywb4Ju9Gebhx"
      },
      "execution_count": null,
      "outputs": []
    },
    {
      "cell_type": "code",
      "source": [
        "\n",
        "model = tf.keras.models.Sequential([\n",
        "    tf.keras.layers.Embedding(10000,16,input_length=text.shape[1]),\n",
        "    tf.keras.layers.Bidirectional(tf.keras.layers.LSTM(20,return_sequences=True)),\n",
        "    tf.keras.layers.Bidirectional(tf.keras.layers.LSTM(20)),\n",
        "    tf.keras.layers.Dense(512,activation='relu'),\n",
        "    tf.keras.layers.Dense(256,activation='relu'),\n",
        "    tf.keras.layers.Dense(128,activation='relu'),\n",
        "    tf.keras.layers.Dense(64,activation='relu'),\n",
        "    tf.keras.layers.Dense(32,activation='relu'),\n",
        "    tf.keras.layers.Dense(16,activation='relu'),\n",
        "    tf.keras.layers.Dense(11,activation='relu'),\n",
        "    tf.keras.layers.Dense(11,activation='softmax')\n",
        "])"
      ],
      "metadata": {
        "id": "lFIbycV9fAMB"
      },
      "execution_count": null,
      "outputs": []
    },
    {
      "cell_type": "code",
      "source": [
        "model.compile(optimizer='adam',loss='categorical_crossentropy',metrics=['accuracy'])"
      ],
      "metadata": {
        "id": "SiNOr6d3fm8t"
      },
      "execution_count": null,
      "outputs": []
    },
    {
      "cell_type": "code",
      "source": [
        "model.summary()"
      ],
      "metadata": {
        "id": "56RVax44hLyg"
      },
      "execution_count": null,
      "outputs": []
    },
    {
      "cell_type": "code",
      "source": [
        "model.fit(text,y,epochs=20)"
      ],
      "metadata": {
        "id": "2sILPy6tf7Ob"
      },
      "execution_count": null,
      "outputs": []
    },
    {
      "cell_type": "code",
      "source": [
        "def preprocessing(text):\n",
        "\n",
        "  sequence = token.texts_to_sequences(text)\n",
        "  sequence = pad_sequences(sequence)\n",
        "  return sequence"
      ],
      "metadata": {
        "id": "klFJbwQ7gRTO"
      },
      "execution_count": null,
      "outputs": []
    },
    {
      "cell_type": "code",
      "source": [
        "test = preprocessing([\" i want to go to the mech Block\"])"
      ],
      "metadata": {
        "id": "4iR5HNg_oY-8"
      },
      "execution_count": null,
      "outputs": []
    },
    {
      "cell_type": "code",
      "source": [
        "test"
      ],
      "metadata": {
        "id": "rJdfuTxhjs2U"
      },
      "execution_count": null,
      "outputs": []
    },
    {
      "cell_type": "code",
      "source": [
        "output = model.predict(test)"
      ],
      "metadata": {
        "id": "g6wTNiJnnQQr"
      },
      "execution_count": null,
      "outputs": []
    },
    {
      "cell_type": "code",
      "source": [
        "import numpy as np"
      ],
      "metadata": {
        "id": "KAaIJWacnvPX"
      },
      "execution_count": null,
      "outputs": []
    },
    {
      "cell_type": "code",
      "source": [
        "output = np.argmax(output)"
      ],
      "metadata": {
        "id": "nxoV_cqys_uY"
      },
      "execution_count": null,
      "outputs": []
    },
    {
      "cell_type": "code",
      "source": [
        "locations_dict[output]"
      ],
      "metadata": {
        "id": "VniRLPIynnx3"
      },
      "execution_count": null,
      "outputs": []
    },
    {
      "cell_type": "code",
      "source": [
        "model.save(\"location_NLP.h5\")"
      ],
      "metadata": {
        "id": "sNm-3Wfwbiwl"
      },
      "execution_count": null,
      "outputs": []
    },
    {
      "cell_type": "code",
      "source": [
        "import joblib"
      ],
      "metadata": {
        "id": "XjAL4-3QCiQy"
      },
      "execution_count": null,
      "outputs": []
    },
    {
      "cell_type": "code",
      "source": [
        "joblib.dump(token, 'token.pkl')"
      ],
      "metadata": {
        "id": "IFIuccEab_i1"
      },
      "execution_count": null,
      "outputs": []
    },
    {
      "cell_type": "code",
      "source": [
        "import tensorflow as tf\n",
        "import joblib\n",
        "import numpy as np\n",
        "from tensorflow.keras.preprocessing.sequence import pad_sequences\n",
        "\n",
        "model = tf.keras.models.load_model(\"/content/location_NLP.h5\")\n",
        "token = joblib.load(\"/content/token.pkl\")\n",
        "\n",
        "locations_dict = {\n",
        "    0: \"APJ Block\", 1: \"Main Block\", 1: \"FX Block\", 2: \"MBA Block\",\n",
        "    2: \"MBA Seminar Hall\", 3: \"Xerox Shop\", 4: \"Exam Cell\",\n",
        "    4: \"Controller of Examinations\", 4: \"COE Block\", 5: \"Basketball Ground\",\n",
        "    5: \"Basketball Court\", 6: \"Canteen\", 6: \"Cafeteria\", 7: \"Main Auditorium\",\n",
        "    8: \"Mechanical Block\", 8: \"Mech Block\", 9: \"Library\", 10: \"Playground\"\n",
        "}\n",
        "\n",
        "def preprocess_text(text):\n",
        "    sequences = token.texts_to_sequences([text])\n",
        "    padded_sequences = pad_sequences(sequences, maxlen=model.input_shape[1])\n",
        "    return padded_sequences\n",
        "\n",
        "def main():\n",
        "    text = input(\"Enter the location query: \")\n",
        "\n",
        "    if not text:\n",
        "        print(\"Error: No text provided.\")\n",
        "        return\n",
        "\n",
        "    processed_text = preprocess_text(text)\n",
        "    prediction = model.predict(processed_text)\n",
        "    predicted_class = np.argmax(prediction)\n",
        "    location = locations_dict.get(predicted_class, \"Unknown Location\")\n",
        "\n",
        "    print(f\"Predicted Location: {location}\")\n",
        "\n",
        "if __name__ == \"__main__\":\n",
        "    main()\n"
      ],
      "metadata": {
        "id": "TiaaGYcJ_KFj"
      },
      "execution_count": null,
      "outputs": []
    },
    {
      "cell_type": "code",
      "source": [
        "import tensorflow as tf\n",
        "import joblib\n",
        "import numpy as np\n",
        "from tensorflow.keras.preprocessing.sequence import pad_sequences\n",
        "\n",
        "model = tf.keras.models.load_model(\"/content/location_NLP.h5\")\n",
        "token = joblib.load(\"/content/token.pkl\")\n",
        "\n",
        "locations_dict = {\n",
        "    0: \"APJ Block\", 1: \"Main Block\", 1: \"FX Block\", 2: \"MBA Block\",\n",
        "    2: \"MBA Seminar Hall\", 3: \"Xerox Shop\", 4: \"Exam Cell\",\n",
        "    4: \"Controller of Examinations\", 4: \"COE Block\", 5: \"Basketball Ground\",\n",
        "    5: \"Basketball Court\", 6: \"Canteen\", 6: \"Cafeteria\", 7: \"Main Auditorium\",\n",
        "    8: \"Mechanical Block\", 8: \"Mech Block\", 9: \"Library\", 10: \"Playground\"\n",
        "}\n",
        "\n",
        "def print_tokenizer_vocab(tokenizer):\n",
        "    print(\"\\nTokenizer Vocabulary:\")\n",
        "    for word, index in tokenizer.word_index.items():\n",
        "        print(f\"Word: '{word}' -> Token: {index}\")\n",
        "\n",
        "def preprocess_text(text):\n",
        "    sequences = token.texts_to_sequences([text])\n",
        "    padded_sequences = pad_sequences(sequences, maxlen=model.input_shape[1])\n",
        "    return sequences, padded_sequences\n",
        "\n",
        "def main():\n",
        "    print_tokenizer_vocab(token)\n",
        "\n",
        "    text = input(\"\\nEnter the location query: \")\n",
        "\n",
        "    if not text:\n",
        "        print(\"Error: No text provided.\")\n",
        "        return\n",
        "\n",
        "    sequences, processed_text = preprocess_text(text)\n",
        "    print(f\"\\nTokenized Sequence for '{text}': {sequences}\")\n",
        "\n",
        "    prediction = model.predict(processed_text)\n",
        "    predicted_class = np.argmax(prediction)\n",
        "    location = locations_dict.get(predicted_class, \"Unknown Location\")\n",
        "\n",
        "    print(f\"\\nPredicted Location: {location}\")\n",
        "\n",
        "if __name__ == \"__main__\":\n",
        "    main()\n"
      ],
      "metadata": {
        "id": "kXw2MI7l_l32"
      },
      "execution_count": null,
      "outputs": []
    }
  ]
}